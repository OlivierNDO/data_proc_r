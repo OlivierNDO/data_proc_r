{
  "cells": [
    {
      "metadata": {
        "trusted": true
      },
      "cell_type": "code",
      "source": "# E.g. Letters A - E (total of 100 elements)\nsome_iterable = rep(c(\"A\", \"B\", \"C\", \"D\", \"E\"),20)\n\n# For every element, print index:element if index is divisible by 7\nfor (i in 1:length(some_iterable)){\n    if(i %% 7 == 0){\n        print(paste0(i, \":\", some_iterable[i]))\n    }\n}",
      "execution_count": 28,
      "outputs": [
        {
          "output_type": "stream",
          "text": "[1] \"7:B\"\n[1] \"14:D\"\n[1] \"21:A\"\n[1] \"28:C\"\n[1] \"35:E\"\n[1] \"42:B\"\n[1] \"49:D\"\n[1] \"56:A\"\n[1] \"63:C\"\n[1] \"70:E\"\n[1] \"77:B\"\n[1] \"84:D\"\n[1] \"91:A\"\n[1] \"98:C\"\n",
          "name": "stdout"
        }
      ]
    }
  ],
  "metadata": {
    "kernelspec": {
      "name": "r",
      "display_name": "R",
      "language": "R"
    },
    "language_info": {
      "mimetype": "text/x-r-source",
      "name": "R",
      "pygments_lexer": "r",
      "version": "3.5.3",
      "file_extension": ".r",
      "codemirror_mode": "r"
    }
  },
  "nbformat": 4,
  "nbformat_minor": 2
}